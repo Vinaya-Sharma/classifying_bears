{
  "cells": [
    {
      "cell_type": "markdown",
      "metadata": {
        "id": "view-in-github",
        "colab_type": "text"
      },
      "source": [
        "<a href=\"https://colab.research.google.com/github/Vinaya-Sharma/classifying_bears/blob/main/classifying_bears.ipynb\" target=\"_parent\"><img src=\"https://colab.research.google.com/assets/colab-badge.svg\" alt=\"Open In Colab\"/></a>"
      ]
    },
    {
      "cell_type": "code",
      "execution_count": 18,
      "metadata": {
        "id": "kqQWkN_HyQAc"
      },
      "outputs": [],
      "source": [
        "from fastai.vision.all import *\n",
        "from fastai.vision.widgets import *"
      ]
    },
    {
      "cell_type": "code",
      "execution_count": 19,
      "metadata": {
        "id": "52z39d_eyzjy"
      },
      "outputs": [],
      "source": [
        "learn_inf = load_learner(\"export.pkl\")"
      ]
    },
    {
      "cell_type": "code",
      "source": [
        "file_input = widgets.FileUpload()\n",
        "image_output = widgets.Output()\n",
        "label = widgets.Label()\n",
        "run_btn = widgets.Button(description=\"classify\")\n",
        "\n",
        "def onchange(change):\n",
        "  label.value = ''\n",
        "  img = PILImage.create(file_input.data[-1])\n",
        "  image_output.clear_output()\n",
        "  with image_output: display(img.to_thumb(128,128))\n",
        "  pred, pred_indx, pred_prob = learn_inf.predict(img)\n",
        "  label.value = f\"this is a {pred}. I am {pred_prob[pred_indx]:.04f} certain\"\n",
        "\n",
        "run_btn.on_click(onchange)"
      ],
      "metadata": {
        "id": "5Vmg3eUrKqmi"
      },
      "execution_count": 20,
      "outputs": []
    },
    {
      "cell_type": "code",
      "source": [
        "display(VBox([widgets.Label(\"select your bear!\"), file_input, run_btn, image_output, label]))"
      ],
      "metadata": {
        "colab": {
          "base_uri": "https://localhost:8080/",
          "height": 248,
          "referenced_widgets": [
            "cac08fca704e4451bf41dfea5ce42f7b",
            "86d75e950cd7419ea8a3585fb1418fce",
            "e55d803ff92d43af9fbfd4e9cf6aebe8",
            "4442ec820bc841bd8dfbc99a9ee25582",
            "4ed0b9d5af2545e188ad61693f3940ce",
            "03f3f1b3f95340a28a1df233d5291b46",
            "9bfb1ef570f0484e827cc69b559d1ad1",
            "6276cf3a18a2406a81d0f15fc9f88df5",
            "3a302a9d168d46fb83f252625dbfc1b9",
            "7392ea7b3da14042ad8a3267ec9877c9",
            "55c99796d7194c02a3c5d8a5b6b0ed30",
            "09a2190729a8459fa26cfb16c341b1bb",
            "37b847b5a09a4e9e8d3b8fa8c4939639",
            "715856aad4934b4984587076f55b042d",
            "c3f3f9a397ff4afa9f833d867241efcf",
            "a7d0f3e04eb3457585fcbeb558693b8c"
          ]
        },
        "id": "QX3-e6m-KsQ0",
        "outputId": "c60ce12f-13c9-49db-ab6d-21828c500e95"
      },
      "execution_count": 21,
      "outputs": [
        {
          "output_type": "display_data",
          "data": {
            "text/plain": [
              "VBox(children=(Label(value='select your bear!'), FileUpload(value={}, description='Upload'), Button(descriptio…"
            ],
            "application/vnd.jupyter.widget-view+json": {
              "version_major": 2,
              "version_minor": 0,
              "model_id": "cac08fca704e4451bf41dfea5ce42f7b"
            }
          },
          "metadata": {}
        },
        {
          "output_type": "display_data",
          "data": {
            "text/plain": [
              "<IPython.core.display.HTML object>"
            ],
            "text/html": [
              "\n",
              "<style>\n",
              "    /* Turns off some styling */\n",
              "    progress {\n",
              "        /* gets rid of default border in Firefox and Opera. */\n",
              "        border: none;\n",
              "        /* Needs to be in here for Safari polyfill so background images work as expected. */\n",
              "        background-size: auto;\n",
              "    }\n",
              "    progress:not([value]), progress:not([value])::-webkit-progress-bar {\n",
              "        background: repeating-linear-gradient(45deg, #7e7e7e, #7e7e7e 10px, #5c5c5c 10px, #5c5c5c 20px);\n",
              "    }\n",
              "    .progress-bar-interrupted, .progress-bar-interrupted::-webkit-progress-bar {\n",
              "        background: #F44336;\n",
              "    }\n",
              "</style>\n"
            ]
          },
          "metadata": {}
        },
        {
          "output_type": "display_data",
          "data": {
            "text/plain": [
              "<IPython.core.display.HTML object>"
            ],
            "text/html": []
          },
          "metadata": {}
        },
        {
          "output_type": "display_data",
          "data": {
            "text/plain": [
              "<IPython.core.display.HTML object>"
            ],
            "text/html": [
              "\n",
              "<style>\n",
              "    /* Turns off some styling */\n",
              "    progress {\n",
              "        /* gets rid of default border in Firefox and Opera. */\n",
              "        border: none;\n",
              "        /* Needs to be in here for Safari polyfill so background images work as expected. */\n",
              "        background-size: auto;\n",
              "    }\n",
              "    progress:not([value]), progress:not([value])::-webkit-progress-bar {\n",
              "        background: repeating-linear-gradient(45deg, #7e7e7e, #7e7e7e 10px, #5c5c5c 10px, #5c5c5c 20px);\n",
              "    }\n",
              "    .progress-bar-interrupted, .progress-bar-interrupted::-webkit-progress-bar {\n",
              "        background: #F44336;\n",
              "    }\n",
              "</style>\n"
            ]
          },
          "metadata": {}
        },
        {
          "output_type": "display_data",
          "data": {
            "text/plain": [
              "<IPython.core.display.HTML object>"
            ],
            "text/html": []
          },
          "metadata": {}
        },
        {
          "output_type": "display_data",
          "data": {
            "text/plain": [
              "<IPython.core.display.HTML object>"
            ],
            "text/html": [
              "\n",
              "<style>\n",
              "    /* Turns off some styling */\n",
              "    progress {\n",
              "        /* gets rid of default border in Firefox and Opera. */\n",
              "        border: none;\n",
              "        /* Needs to be in here for Safari polyfill so background images work as expected. */\n",
              "        background-size: auto;\n",
              "    }\n",
              "    progress:not([value]), progress:not([value])::-webkit-progress-bar {\n",
              "        background: repeating-linear-gradient(45deg, #7e7e7e, #7e7e7e 10px, #5c5c5c 10px, #5c5c5c 20px);\n",
              "    }\n",
              "    .progress-bar-interrupted, .progress-bar-interrupted::-webkit-progress-bar {\n",
              "        background: #F44336;\n",
              "    }\n",
              "</style>\n"
            ]
          },
          "metadata": {}
        },
        {
          "output_type": "display_data",
          "data": {
            "text/plain": [
              "<IPython.core.display.HTML object>"
            ],
            "text/html": []
          },
          "metadata": {}
        }
      ]
    },
    {
      "cell_type": "code",
      "source": [],
      "metadata": {
        "id": "eYO12TPfjZmL"
      },
      "execution_count": null,
      "outputs": []
    }
  ],
  "metadata": {
    "colab": {
      "provenance": [],
      "authorship_tag": "ABX9TyOCzY80KJBx/8t2/+blgRgy",
      "include_colab_link": true
    },
    "kernelspec": {
      "display_name": "Python 3",
      "name": "python3"
    },
    "language_info": {
      "name": "python"
    },
    "widgets": {
      "application/vnd.jupyter.widget-state+json": {
        "cac08fca704e4451bf41dfea5ce42f7b": {
          "model_module": "@jupyter-widgets/controls",
          "model_name": "VBoxModel",
          "model_module_version": "1.5.0",
          "state": {
            "_dom_classes": [],
            "_model_module": "@jupyter-widgets/controls",
            "_model_module_version": "1.5.0",
            "_model_name": "VBoxModel",
            "_view_count": null,
            "_view_module": "@jupyter-widgets/controls",
            "_view_module_version": "1.5.0",
            "_view_name": "VBoxView",
            "box_style": "",
            "children": [
              "IPY_MODEL_86d75e950cd7419ea8a3585fb1418fce",
              "IPY_MODEL_e55d803ff92d43af9fbfd4e9cf6aebe8",
              "IPY_MODEL_4442ec820bc841bd8dfbc99a9ee25582",
              "IPY_MODEL_4ed0b9d5af2545e188ad61693f3940ce",
              "IPY_MODEL_03f3f1b3f95340a28a1df233d5291b46"
            ],
            "layout": "IPY_MODEL_9bfb1ef570f0484e827cc69b559d1ad1"
          }
        },
        "86d75e950cd7419ea8a3585fb1418fce": {
          "model_module": "@jupyter-widgets/controls",
          "model_name": "LabelModel",
          "model_module_version": "1.5.0",
          "state": {
            "_dom_classes": [],
            "_model_module": "@jupyter-widgets/controls",
            "_model_module_version": "1.5.0",
            "_model_name": "LabelModel",
            "_view_count": null,
            "_view_module": "@jupyter-widgets/controls",
            "_view_module_version": "1.5.0",
            "_view_name": "LabelView",
            "description": "",
            "description_tooltip": null,
            "layout": "IPY_MODEL_6276cf3a18a2406a81d0f15fc9f88df5",
            "placeholder": "​",
            "style": "IPY_MODEL_3a302a9d168d46fb83f252625dbfc1b9",
            "value": "select your bear!"
          }
        },
        "e55d803ff92d43af9fbfd4e9cf6aebe8": {
          "model_module": "@jupyter-widgets/controls",
          "model_name": "FileUploadModel",
          "model_module_version": "1.5.0",
          "state": {
            "_counter": 3,
            "_dom_classes": [],
            "_model_module": "@jupyter-widgets/controls",
            "_model_module_version": "1.5.0",
            "_model_name": "FileUploadModel",
            "_view_count": null,
            "_view_module": "@jupyter-widgets/controls",
            "_view_module_version": "1.5.0",
            "_view_name": "FileUploadView",
            "accept": "",
            "button_style": "",
            "data": [
              null
            ],
            "description": "Upload",
            "description_tooltip": null,
            "disabled": false,
            "error": "",
            "icon": "upload",
            "layout": "IPY_MODEL_7392ea7b3da14042ad8a3267ec9877c9",
            "metadata": [
              {
                "name": "aBear.jpeg",
                "type": "image/jpeg",
                "size": 8601,
                "lastModified": 1667564203597
              }
            ],
            "multiple": false,
            "style": "IPY_MODEL_55c99796d7194c02a3c5d8a5b6b0ed30"
          }
        },
        "4442ec820bc841bd8dfbc99a9ee25582": {
          "model_module": "@jupyter-widgets/controls",
          "model_name": "ButtonModel",
          "model_module_version": "1.5.0",
          "state": {
            "_dom_classes": [],
            "_model_module": "@jupyter-widgets/controls",
            "_model_module_version": "1.5.0",
            "_model_name": "ButtonModel",
            "_view_count": null,
            "_view_module": "@jupyter-widgets/controls",
            "_view_module_version": "1.5.0",
            "_view_name": "ButtonView",
            "button_style": "",
            "description": "classify",
            "disabled": false,
            "icon": "",
            "layout": "IPY_MODEL_09a2190729a8459fa26cfb16c341b1bb",
            "style": "IPY_MODEL_37b847b5a09a4e9e8d3b8fa8c4939639",
            "tooltip": ""
          }
        },
        "4ed0b9d5af2545e188ad61693f3940ce": {
          "model_module": "@jupyter-widgets/output",
          "model_name": "OutputModel",
          "model_module_version": "1.0.0",
          "state": {
            "_dom_classes": [],
            "_model_module": "@jupyter-widgets/output",
            "_model_module_version": "1.0.0",
            "_model_name": "OutputModel",
            "_view_count": null,
            "_view_module": "@jupyter-widgets/output",
            "_view_module_version": "1.0.0",
            "_view_name": "OutputView",
            "layout": "IPY_MODEL_a7d0f3e04eb3457585fcbeb558693b8c",
            "msg_id": "",
            "outputs": [
              {
                "output_type": "display_data",
                "data": {
                  "text/plain": "<PIL.Image.Image image mode=RGB size=128x103>",
                  "image/png": "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\n"
                },
                "metadata": {}
              }
            ]
          }
        },
        "03f3f1b3f95340a28a1df233d5291b46": {
          "model_module": "@jupyter-widgets/controls",
          "model_name": "LabelModel",
          "model_module_version": "1.5.0",
          "state": {
            "_dom_classes": [],
            "_model_module": "@jupyter-widgets/controls",
            "_model_module_version": "1.5.0",
            "_model_name": "LabelModel",
            "_view_count": null,
            "_view_module": "@jupyter-widgets/controls",
            "_view_module_version": "1.5.0",
            "_view_name": "LabelView",
            "description": "",
            "description_tooltip": null,
            "layout": "IPY_MODEL_715856aad4934b4984587076f55b042d",
            "placeholder": "​",
            "style": "IPY_MODEL_c3f3f9a397ff4afa9f833d867241efcf",
            "value": "this is a grizzly. I am 1.0000 certain"
          }
        },
        "9bfb1ef570f0484e827cc69b559d1ad1": {
          "model_module": "@jupyter-widgets/base",
          "model_name": "LayoutModel",
          "model_module_version": "1.2.0",
          "state": {
            "_model_module": "@jupyter-widgets/base",
            "_model_module_version": "1.2.0",
            "_model_name": "LayoutModel",
            "_view_count": null,
            "_view_module": "@jupyter-widgets/base",
            "_view_module_version": "1.2.0",
            "_view_name": "LayoutView",
            "align_content": null,
            "align_items": null,
            "align_self": null,
            "border": null,
            "bottom": null,
            "display": null,
            "flex": null,
            "flex_flow": null,
            "grid_area": null,
            "grid_auto_columns": null,
            "grid_auto_flow": null,
            "grid_auto_rows": null,
            "grid_column": null,
            "grid_gap": null,
            "grid_row": null,
            "grid_template_areas": null,
            "grid_template_columns": null,
            "grid_template_rows": null,
            "height": null,
            "justify_content": null,
            "justify_items": null,
            "left": null,
            "margin": null,
            "max_height": null,
            "max_width": null,
            "min_height": null,
            "min_width": null,
            "object_fit": null,
            "object_position": null,
            "order": null,
            "overflow": null,
            "overflow_x": null,
            "overflow_y": null,
            "padding": null,
            "right": null,
            "top": null,
            "visibility": null,
            "width": null
          }
        },
        "6276cf3a18a2406a81d0f15fc9f88df5": {
          "model_module": "@jupyter-widgets/base",
          "model_name": "LayoutModel",
          "model_module_version": "1.2.0",
          "state": {
            "_model_module": "@jupyter-widgets/base",
            "_model_module_version": "1.2.0",
            "_model_name": "LayoutModel",
            "_view_count": null,
            "_view_module": "@jupyter-widgets/base",
            "_view_module_version": "1.2.0",
            "_view_name": "LayoutView",
            "align_content": null,
            "align_items": null,
            "align_self": null,
            "border": null,
            "bottom": null,
            "display": null,
            "flex": null,
            "flex_flow": null,
            "grid_area": null,
            "grid_auto_columns": null,
            "grid_auto_flow": null,
            "grid_auto_rows": null,
            "grid_column": null,
            "grid_gap": null,
            "grid_row": null,
            "grid_template_areas": null,
            "grid_template_columns": null,
            "grid_template_rows": null,
            "height": null,
            "justify_content": null,
            "justify_items": null,
            "left": null,
            "margin": null,
            "max_height": null,
            "max_width": null,
            "min_height": null,
            "min_width": null,
            "object_fit": null,
            "object_position": null,
            "order": null,
            "overflow": null,
            "overflow_x": null,
            "overflow_y": null,
            "padding": null,
            "right": null,
            "top": null,
            "visibility": null,
            "width": null
          }
        },
        "3a302a9d168d46fb83f252625dbfc1b9": {
          "model_module": "@jupyter-widgets/controls",
          "model_name": "DescriptionStyleModel",
          "model_module_version": "1.5.0",
          "state": {
            "_model_module": "@jupyter-widgets/controls",
            "_model_module_version": "1.5.0",
            "_model_name": "DescriptionStyleModel",
            "_view_count": null,
            "_view_module": "@jupyter-widgets/base",
            "_view_module_version": "1.2.0",
            "_view_name": "StyleView",
            "description_width": ""
          }
        },
        "7392ea7b3da14042ad8a3267ec9877c9": {
          "model_module": "@jupyter-widgets/base",
          "model_name": "LayoutModel",
          "model_module_version": "1.2.0",
          "state": {
            "_model_module": "@jupyter-widgets/base",
            "_model_module_version": "1.2.0",
            "_model_name": "LayoutModel",
            "_view_count": null,
            "_view_module": "@jupyter-widgets/base",
            "_view_module_version": "1.2.0",
            "_view_name": "LayoutView",
            "align_content": null,
            "align_items": null,
            "align_self": null,
            "border": null,
            "bottom": null,
            "display": null,
            "flex": null,
            "flex_flow": null,
            "grid_area": null,
            "grid_auto_columns": null,
            "grid_auto_flow": null,
            "grid_auto_rows": null,
            "grid_column": null,
            "grid_gap": null,
            "grid_row": null,
            "grid_template_areas": null,
            "grid_template_columns": null,
            "grid_template_rows": null,
            "height": null,
            "justify_content": null,
            "justify_items": null,
            "left": null,
            "margin": null,
            "max_height": null,
            "max_width": null,
            "min_height": null,
            "min_width": null,
            "object_fit": null,
            "object_position": null,
            "order": null,
            "overflow": null,
            "overflow_x": null,
            "overflow_y": null,
            "padding": null,
            "right": null,
            "top": null,
            "visibility": null,
            "width": null
          }
        },
        "55c99796d7194c02a3c5d8a5b6b0ed30": {
          "model_module": "@jupyter-widgets/controls",
          "model_name": "ButtonStyleModel",
          "model_module_version": "1.5.0",
          "state": {
            "_model_module": "@jupyter-widgets/controls",
            "_model_module_version": "1.5.0",
            "_model_name": "ButtonStyleModel",
            "_view_count": null,
            "_view_module": "@jupyter-widgets/base",
            "_view_module_version": "1.2.0",
            "_view_name": "StyleView",
            "button_color": null,
            "font_weight": ""
          }
        },
        "09a2190729a8459fa26cfb16c341b1bb": {
          "model_module": "@jupyter-widgets/base",
          "model_name": "LayoutModel",
          "model_module_version": "1.2.0",
          "state": {
            "_model_module": "@jupyter-widgets/base",
            "_model_module_version": "1.2.0",
            "_model_name": "LayoutModel",
            "_view_count": null,
            "_view_module": "@jupyter-widgets/base",
            "_view_module_version": "1.2.0",
            "_view_name": "LayoutView",
            "align_content": null,
            "align_items": null,
            "align_self": null,
            "border": null,
            "bottom": null,
            "display": null,
            "flex": null,
            "flex_flow": null,
            "grid_area": null,
            "grid_auto_columns": null,
            "grid_auto_flow": null,
            "grid_auto_rows": null,
            "grid_column": null,
            "grid_gap": null,
            "grid_row": null,
            "grid_template_areas": null,
            "grid_template_columns": null,
            "grid_template_rows": null,
            "height": null,
            "justify_content": null,
            "justify_items": null,
            "left": null,
            "margin": null,
            "max_height": null,
            "max_width": null,
            "min_height": null,
            "min_width": null,
            "object_fit": null,
            "object_position": null,
            "order": null,
            "overflow": null,
            "overflow_x": null,
            "overflow_y": null,
            "padding": null,
            "right": null,
            "top": null,
            "visibility": null,
            "width": null
          }
        },
        "37b847b5a09a4e9e8d3b8fa8c4939639": {
          "model_module": "@jupyter-widgets/controls",
          "model_name": "ButtonStyleModel",
          "model_module_version": "1.5.0",
          "state": {
            "_model_module": "@jupyter-widgets/controls",
            "_model_module_version": "1.5.0",
            "_model_name": "ButtonStyleModel",
            "_view_count": null,
            "_view_module": "@jupyter-widgets/base",
            "_view_module_version": "1.2.0",
            "_view_name": "StyleView",
            "button_color": null,
            "font_weight": ""
          }
        },
        "715856aad4934b4984587076f55b042d": {
          "model_module": "@jupyter-widgets/base",
          "model_name": "LayoutModel",
          "model_module_version": "1.2.0",
          "state": {
            "_model_module": "@jupyter-widgets/base",
            "_model_module_version": "1.2.0",
            "_model_name": "LayoutModel",
            "_view_count": null,
            "_view_module": "@jupyter-widgets/base",
            "_view_module_version": "1.2.0",
            "_view_name": "LayoutView",
            "align_content": null,
            "align_items": null,
            "align_self": null,
            "border": null,
            "bottom": null,
            "display": null,
            "flex": null,
            "flex_flow": null,
            "grid_area": null,
            "grid_auto_columns": null,
            "grid_auto_flow": null,
            "grid_auto_rows": null,
            "grid_column": null,
            "grid_gap": null,
            "grid_row": null,
            "grid_template_areas": null,
            "grid_template_columns": null,
            "grid_template_rows": null,
            "height": null,
            "justify_content": null,
            "justify_items": null,
            "left": null,
            "margin": null,
            "max_height": null,
            "max_width": null,
            "min_height": null,
            "min_width": null,
            "object_fit": null,
            "object_position": null,
            "order": null,
            "overflow": null,
            "overflow_x": null,
            "overflow_y": null,
            "padding": null,
            "right": null,
            "top": null,
            "visibility": null,
            "width": null
          }
        },
        "c3f3f9a397ff4afa9f833d867241efcf": {
          "model_module": "@jupyter-widgets/controls",
          "model_name": "DescriptionStyleModel",
          "model_module_version": "1.5.0",
          "state": {
            "_model_module": "@jupyter-widgets/controls",
            "_model_module_version": "1.5.0",
            "_model_name": "DescriptionStyleModel",
            "_view_count": null,
            "_view_module": "@jupyter-widgets/base",
            "_view_module_version": "1.2.0",
            "_view_name": "StyleView",
            "description_width": ""
          }
        },
        "a7d0f3e04eb3457585fcbeb558693b8c": {
          "model_module": "@jupyter-widgets/base",
          "model_name": "LayoutModel",
          "model_module_version": "1.2.0",
          "state": {
            "_model_module": "@jupyter-widgets/base",
            "_model_module_version": "1.2.0",
            "_model_name": "LayoutModel",
            "_view_count": null,
            "_view_module": "@jupyter-widgets/base",
            "_view_module_version": "1.2.0",
            "_view_name": "LayoutView",
            "align_content": null,
            "align_items": null,
            "align_self": null,
            "border": null,
            "bottom": null,
            "display": null,
            "flex": null,
            "flex_flow": null,
            "grid_area": null,
            "grid_auto_columns": null,
            "grid_auto_flow": null,
            "grid_auto_rows": null,
            "grid_column": null,
            "grid_gap": null,
            "grid_row": null,
            "grid_template_areas": null,
            "grid_template_columns": null,
            "grid_template_rows": null,
            "height": null,
            "justify_content": null,
            "justify_items": null,
            "left": null,
            "margin": null,
            "max_height": null,
            "max_width": null,
            "min_height": null,
            "min_width": null,
            "object_fit": null,
            "object_position": null,
            "order": null,
            "overflow": null,
            "overflow_x": null,
            "overflow_y": null,
            "padding": null,
            "right": null,
            "top": null,
            "visibility": null,
            "width": null
          }
        }
      }
    }
  },
  "nbformat": 4,
  "nbformat_minor": 0
}